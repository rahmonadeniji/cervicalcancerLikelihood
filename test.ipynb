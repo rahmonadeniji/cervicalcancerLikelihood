{
 "cells": [
  {
   "cell_type": "code",
   "execution_count": 69,
   "metadata": {},
   "outputs": [],
   "source": [
    "import numpy as np\n",
    "import pandas as pd\n",
    "import matplotlib.pyplot as plt\n",
    "from PIL import Image\n",
    "import tqdm\n",
    "import pickle\n",
    "\n",
    "import h5py\n",
    "\n",
    "from keras.models import load_model\n",
    "\n",
    "from tensorflow.keras.preprocessing.image import img_to_array, load_img\n",
    "from keras.preprocessing.image import ImageDataGenerator\n",
    "\n",
    "\n",
    "#import streamlit as st"
   ]
  },
  {
   "cell_type": "code",
   "execution_count": 123,
   "metadata": {},
   "outputs": [],
   "source": [
    "image_feature_obj = open(\"/Users/rahmonolusegunadeniji/Documents/Project/image_models/feature_extractor.pkl\", \"rb\")\n",
    "image_feature_model = pickle.load(image_feature_obj)"
   ]
  },
  {
   "cell_type": "code",
   "execution_count": null,
   "metadata": {},
   "outputs": [],
   "source": [
    "import PIL\n",
    "\n",
    "image_path = \"/Users/rahmonolusegunadeniji/Documents/Project/Cervical_Cancer/training_set/Dyskeratotic/cervix_dyk_0001.jpg\"\n",
    "\n",
    "image = PIL.Image.open(image_path)"
   ]
  },
  {
   "cell_type": "code",
   "execution_count": null,
   "metadata": {},
   "outputs": [],
   "source": []
  },
  {
   "cell_type": "code",
   "execution_count": null,
   "metadata": {},
   "outputs": [],
   "source": []
  },
  {
   "cell_type": "code",
   "execution_count": 126,
   "metadata": {},
   "outputs": [],
   "source": [
    "image_size = (512, 512, 3)\n",
    "\n",
    "data_size = 1\n",
    "\n",
    "batch_size = 1\n",
    "\n",
    "image_arr = np.array(image)\n",
    "\n",
    "image_arr = np.expand_dims(image_arr, axis = 0)\n",
    "\n",
    "feature_extract = np.zeros([data_size, 9664], dtype = np.uint8)\n",
    "\n",
    "Datagen = ImageDataGenerator()\n",
    "\n",
    "Generator = Datagen.flow(image_arr,\n",
    "        batch_size = batch_size\n",
    ")"
   ]
  },
  {
   "cell_type": "code",
   "execution_count": 127,
   "metadata": {},
   "outputs": [],
   "source": [
    "batch = next(Generator)"
   ]
  },
  {
   "cell_type": "code",
   "execution_count": 128,
   "metadata": {},
   "outputs": [
    {
     "name": "stdout",
     "output_type": "stream",
     "text": [
      "1/1 [==============================] - 12s 12s/step\n"
     ]
    }
   ],
   "source": [
    "batch = image_feature_model.predict(batch)\n",
    "feature_extract[0:1] = batch"
   ]
  },
  {
   "cell_type": "code",
   "execution_count": 129,
   "metadata": {},
   "outputs": [
    {
     "data": {
      "text/plain": [
       "(1, 9664)"
      ]
     },
     "execution_count": 129,
     "metadata": {},
     "output_type": "execute_result"
    }
   ],
   "source": [
    "feature_extract.shape"
   ]
  },
  {
   "cell_type": "code",
   "execution_count": null,
   "metadata": {},
   "outputs": [],
   "source": []
  },
  {
   "cell_type": "code",
   "execution_count": 139,
   "metadata": {},
   "outputs": [],
   "source": [
    "def image_predict(image):\n",
    "\n",
    "    image_feature_obj = open (\"/Users/rahmonolusegunadeniji/Documents/Project/image_models/feature_extractor.pkl\", \"rb\")\n",
    "    image_feature_model = pickle.load(image_feature_obj)\n",
    "\n",
    "\n",
    "    data_size = 1\n",
    "\n",
    "    image_arr = np.array(Image.open())\n",
    "\n",
    "    image_arr = np.expand_dims(image_arr, axis = 0)\n",
    "\n",
    "    feature_extract = np.zeros([data_size, 9664], dtype = np.uint8)\n",
    "\n",
    "    Datagen = ImageDataGenerator()\n",
    "\n",
    "    Generator = Datagen.flow(image_arr,\n",
    "        batch_size = batch_size\n",
    "    )\n",
    "\n",
    "    batch = next(Generator)\n",
    "\n",
    "    batch = image_feature_model.predict(batch)\n",
    "    feature_extract[0:1] = batch\n",
    "\n",
    "\n",
    "    image_feature = image_feature_model.predict(image)\n",
    "\n",
    "    dictionary_1 = {'Dyskeratotic':3, \n",
    "                    'Parabasal':1, \n",
    "                    'Metaplastic':4, \n",
    "                    'Koilocytotic':0,\n",
    "       'Superficial_Intermediate':2\n",
    "       }\n",
    "\n",
    "\n",
    "\n",
    "    class_label = ['Koilocytotic', 'Parabasal', 'Superficial_Intermediate', 'Dyskeratotic', 'Metaplastic']\n",
    "\n",
    "    model_import = load_model(\"/Users/rahmonolusegunadeniji/Documents/Project/Image_cervical_models/best_checkpoint2.h5\")\n",
    "\n",
    "\n",
    "    ypred = model_import.predict(image_feature)\n",
    "\n",
    "    ypred_idx = np.argmax(ypred, axis=1)[0]\n",
    "\n",
    "    ypred_label = class_label[ypred_idx]\n",
    "\n",
    "    return  ypred_label"
   ]
  },
  {
   "cell_type": "code",
   "execution_count": 140,
   "metadata": {},
   "outputs": [
    {
     "name": "stdout",
     "output_type": "stream",
     "text": [
      "1/1 [==============================] - 0s 35ms/step\n"
     ]
    },
    {
     "data": {
      "text/plain": [
       "'Dyskeratotic'"
      ]
     },
     "execution_count": 140,
     "metadata": {},
     "output_type": "execute_result"
    }
   ],
   "source": [
    "image_predict(feature_extract)"
   ]
  },
  {
   "cell_type": "code",
   "execution_count": 141,
   "metadata": {},
   "outputs": [
    {
     "name": "stdout",
     "output_type": "stream",
     "text": [
      "WARNING:tensorflow:No training configuration found in the save file, so the model was *not* compiled. Compile it manually.\n"
     ]
    }
   ],
   "source": [
    "import numpy as np\n",
    "import pandas as pd\n",
    "import matplotlib.pyplot as plt\n",
    "from PIL import Image\n",
    "import pickle\n",
    "\n",
    "import h5py\n",
    "\n",
    "import keras\n",
    "\n",
    "import tensorflow as tf\n",
    "\n",
    "from keras.models import load_model\n",
    "from keras.preprocessing.image import ImageDataGenerator\n",
    "\n",
    "class load_models:\n",
    "\n",
    "    def __init__(self, model_path):\n",
    "        self.model_path = model_path\n",
    "\n",
    "    def load_feature_extraction_model(self):\n",
    "        image_feature_model = keras.models.load_model(self.model_path)\n",
    "\n",
    "        return image_feature_model\n",
    "\n",
    "\n",
    "if __name__ == \"__main__\":\n",
    "    obj = load_models(\"/Users/rahmonolusegunadeniji/Documents/Project/image_models/merged_model2.h5\")\n",
    "    m_model = obj.load_feature_extraction_model()"
   ]
  },
  {
   "cell_type": "code",
   "execution_count": 148,
   "metadata": {},
   "outputs": [
    {
     "ename": "ImportError",
     "evalue": "cannot import name 'm_model' from 'src.utils' (/Users/rahmonolusegunadeniji/Documents/Project/src/utils.py)",
     "output_type": "error",
     "traceback": [
      "\u001b[0;31m---------------------------------------------------------------------------\u001b[0m",
      "\u001b[0;31mImportError\u001b[0m                               Traceback (most recent call last)",
      "Cell \u001b[0;32mIn[148], line 1\u001b[0m\n\u001b[0;32m----> 1\u001b[0m \u001b[39mfrom\u001b[39;00m \u001b[39msrc\u001b[39;00m\u001b[39m.\u001b[39;00m\u001b[39mutils\u001b[39;00m \u001b[39mimport\u001b[39;00m m_model\n",
      "\u001b[0;31mImportError\u001b[0m: cannot import name 'm_model' from 'src.utils' (/Users/rahmonolusegunadeniji/Documents/Project/src/utils.py)"
     ]
    }
   ],
   "source": [
    "from src.utils import m_model"
   ]
  },
  {
   "cell_type": "code",
   "execution_count": 146,
   "metadata": {},
   "outputs": [
    {
     "data": {
      "text/plain": [
       "TensorShape([None, 9664])"
      ]
     },
     "execution_count": 146,
     "metadata": {},
     "output_type": "execute_result"
    }
   ],
   "source": [
    "m_model.output.shape"
   ]
  },
  {
   "cell_type": "code",
   "execution_count": 147,
   "metadata": {},
   "outputs": [
    {
     "data": {
      "text/plain": [
       "(1, 9664)"
      ]
     },
     "execution_count": 147,
     "metadata": {},
     "output_type": "execute_result"
    }
   ],
   "source": [
    "feature_extract.shape"
   ]
  },
  {
   "cell_type": "code",
   "execution_count": 11,
   "metadata": {},
   "outputs": [],
   "source": [
    "import h5py\n",
    "import streamlit as st"
   ]
  },
  {
   "cell_type": "code",
   "execution_count": 17,
   "metadata": {},
   "outputs": [],
   "source": [
    "uploaded_file = st.file_uploader('image_models/merged_model2.h5')"
   ]
  },
  {
   "cell_type": "code",
   "execution_count": 19,
   "metadata": {},
   "outputs": [],
   "source": [
    "if uploaded_file is not None:\n",
    "    # Read uploaded file data\n",
    "    file_contents = uploaded_file.read()\n",
    "    print(file_contents)"
   ]
  },
  {
   "cell_type": "code",
   "execution_count": null,
   "metadata": {},
   "outputs": [],
   "source": []
  },
  {
   "cell_type": "code",
   "execution_count": null,
   "metadata": {},
   "outputs": [],
   "source": []
  }
 ],
 "metadata": {
  "kernelspec": {
   "display_name": "Python 3",
   "language": "python",
   "name": "python3"
  },
  "language_info": {
   "codemirror_mode": {
    "name": "ipython",
    "version": 3
   },
   "file_extension": ".py",
   "mimetype": "text/x-python",
   "name": "python",
   "nbconvert_exporter": "python",
   "pygments_lexer": "ipython3",
   "version": "3.11.0"
  },
  "orig_nbformat": 4
 },
 "nbformat": 4,
 "nbformat_minor": 2
}
